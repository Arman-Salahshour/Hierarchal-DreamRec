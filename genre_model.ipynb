{
 "cells": [
  {
   "cell_type": "code",
   "execution_count": null,
   "id": "initial_id",
   "metadata": {
    "collapsed": true
   },
   "outputs": [],
   "source": [
    "# !rm -rf Hierarchal-DreamRec"
   ]
  },
  {
   "cell_type": "code",
   "outputs": [],
   "source": [
    "import os\n",
    "!git clone https://github.com/Arman-Salahshour/Hierarchal-DreamRec.git\n",
    "# os.chdir('/content/Hierarchal-DreamRec')"
   ],
   "metadata": {
    "collapsed": false
   },
   "id": "538d4f1de000fe99"
  },
  {
   "cell_type": "code",
   "outputs": [],
   "source": [
    "!python -u DreamRec_Gen.py --tune --data Amir --timesteps 600 --lr 0.001 --beta_sche linear --w 2 --optimizer adam --diffuser_type mlp1 --random_seed 100"
   ],
   "metadata": {
    "collapsed": false
   },
   "id": "efab91b9c97cd1f8"
  },
  {
   "cell_type": "code",
   "outputs": [],
   "source": [
    "import torch\n",
    "import pickle\n",
    "import numpy as np\n",
    "from tqdm import tqdm\n",
    "from collections import defaultdict\n",
    "class Metric:\n",
    "    def __init__(self, name, values,):\n",
    "        self.name = name\n",
    "        self.values = values\n",
    "        self.eval_dict = defaultdict(list)\n",
    "        self.bestOne = None\n",
    "\n",
    "    def find_max_one(self):\n",
    "        best = -np.inf\n",
    "        for key in self.eval_dict.keys():\n",
    "            temp = max(self.eval_dict[key])\n",
    "            if temp > best:\n",
    "               self.bestOne = key\n",
    "               best =  temp\n",
    "\n",
    "    def find_min_one(self):\n",
    "        best = np.inf\n",
    "        for key in self.eval_dict.keys():\n",
    "            temp = min(self.eval_dict[key])\n",
    "            if temp < best:\n",
    "               self.bestOne = key\n",
    "               best =  temp\n",
    "\n",
    "    def __str__(self):\n",
    "        info = [\n",
    "            f\"Metric Name: {self.name}\",\n",
    "            f\"Values: {self.values}\",\n",
    "            f\"Evaluation Dictionary: {dict(self.eval_dict)}\",\n",
    "            f\"Best One: {self.bestOne}\",\n",
    "        ]\n",
    "        return \"\\n\".join(info)\n",
    "data = torch.load(\"/tune/metrics.dict\")\n",
    "for idx, metric in enumerate(data):\n",
    "    print(f\"Metric {idx + 1}:\")\n",
    "    print(f\"  Name: {metric.name}\")\n",
    "    print(f\"  Values: {metric.values}\")\n",
    "    print(f\"  Evaluation Dictionary: {dict(metric.eval_dict)}\")\n",
    "    print(f\"  Best One: {metric.bestOne}\")\n",
    "    print(\"-\" * 40)\n",
    "print(data[0].bestOne, data[1].bestOne, data[2].bestOne)"
   ],
   "metadata": {
    "collapsed": false
   },
   "id": "64915cbc55f77ff2"
  },
  {
   "cell_type": "code",
   "outputs": [],
   "source": [
    "!python -u DreamRec_Gen.py --no-tune --data Amir --timesteps 600 --lr 0.001 --beta_sche linear --w 2 --optimizer adam --diffuser_type mlp1 --random_seed 100"
   ],
   "metadata": {
    "collapsed": false
   },
   "id": "b71140aa7fa30240"
  },
  {
   "cell_type": "code",
   "outputs": [],
   "source": [
    "from google.colab import files\n",
    "import os\n",
    "directory_to_download = '/'\n",
    "!zip -r /content/Hierarchal_DreamRec.zip {directory_to_download}\n",
    "files.download('/2PDreamRec.zip')"
   ],
   "metadata": {
    "collapsed": false
   },
   "id": "8a084c3f0aa24272"
  }
 ],
 "metadata": {
  "kernelspec": {
   "display_name": "Python 3",
   "language": "python",
   "name": "python3"
  },
  "language_info": {
   "codemirror_mode": {
    "name": "ipython",
    "version": 2
   },
   "file_extension": ".py",
   "mimetype": "text/x-python",
   "name": "python",
   "nbconvert_exporter": "python",
   "pygments_lexer": "ipython2",
   "version": "2.7.6"
  }
 },
 "nbformat": 4,
 "nbformat_minor": 5
}
